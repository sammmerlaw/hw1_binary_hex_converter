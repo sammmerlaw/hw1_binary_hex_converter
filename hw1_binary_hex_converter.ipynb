{
  "nbformat": 4,
  "nbformat_minor": 0,
  "metadata": {
    "colab": {
      "provenance": [],
      "authorship_tag": "ABX9TyN3lzHMs52Wg4Oxzg0eMUL4",
      "include_colab_link": true
    },
    "kernelspec": {
      "name": "python3",
      "display_name": "Python 3"
    },
    "language_info": {
      "name": "python"
    }
  },
  "cells": [
    {
      "cell_type": "markdown",
      "metadata": {
        "id": "view-in-github",
        "colab_type": "text"
      },
      "source": [
        "<a href=\"https://colab.research.google.com/github/sammmerlaw/hw1_binary_hex_converter/blob/main/hw1_binary_hex_converter.ipynb\" target=\"_parent\"><img src=\"https://colab.research.google.com/assets/colab-badge.svg\" alt=\"Open In Colab\"/></a>"
      ]
    },
    {
      "cell_type": "code",
      "execution_count": 126,
      "metadata": {
        "colab": {
          "base_uri": "https://localhost:8080/"
        },
        "id": "h9AY1Nk_Wsyy",
        "outputId": "7012770a-036e-4061-b8cd-12f4790c6e43"
      },
      "outputs": [
        {
          "output_type": "stream",
          "name": "stdout",
          "text": [
            "請輸入 0~255 的數字:324\n",
            "Error!\n",
            "請輸入 0~255 的數字:234\n",
            "二進制：11101010\n",
            "十六進制：EA\n"
          ]
        }
      ],
      "source": [
        "binary_num=0\n",
        "hex_num1=0\n",
        "hex_num2=0\n",
        "decimal_position=[256,128,64,32,16,8,4,2,1,0,0]\n",
        "binary_position=[100000000,10000000,1000000,100000,10000,1000,100,10,1,0,0]\n",
        "hex_position=[0,1,2,3,4,5,6,7,8,9,\"A\",\"B\",\"C\",\"D\",\"E\",\"F\"]\n",
        "\n",
        "#輸入數字\n",
        "for input_num in range(1,9999999999):\n",
        "  input_num=input(\"請輸入 0~255 的數字:\")\n",
        "\n",
        "  #判斷是否為0~255的整數\n",
        "  if input_num.isdigit()==True and int(input_num)<=255 and int(input_num)>0:\n",
        "    input_num=int(input_num)\n",
        "    x=0\n",
        "    y=0\n",
        "    z=0\n",
        "\n",
        "    #計算2進位\n",
        "    while x<8:\n",
        "      if decimal_position[x+1]<=input_num<decimal_position[x]:\n",
        "        binary_num+=binary_position[x+1]\n",
        "        input_num-=decimal_position[x+1]\n",
        "        x+=1\n",
        "      else:\n",
        "        x+=1\n",
        "\n",
        "    bi_num1=binary_num//10000\n",
        "    bi_num2=binary_num-bi_num1*10000\n",
        "\n",
        "\n",
        "    #計算第一個16進位\n",
        "    while y<4:\n",
        "      if binary_position[y+5]<=bi_num1<binary_position[y+4]:\n",
        "        hex_num1+=bi_num1//binary_position[y+5]*decimal_position[y+5]\n",
        "        bi_num1-=binary_position[y+5]\n",
        "        y+=1\n",
        "      else:\n",
        "        y+=1\n",
        "\n",
        "    #計算第二個16進位  \n",
        "    while z<4:\n",
        "      if binary_position[z+5]<=bi_num2<binary_position[z+4]:\n",
        "        hex_num2+=bi_num2//binary_position[z+5]*decimal_position[z+5]\n",
        "        bi_num2-=binary_position[z+5]\n",
        "        z+=1\n",
        "      else:\n",
        "        z+=1\n",
        "\n",
        "    #輸出結果\n",
        "    str(binary_num)\n",
        "    ans2=\"二進制：\"+str(binary_num)\n",
        "    print(ans2)\n",
        "    if hex_num1==0:\n",
        "      ans16=\"十六進制：\"+str(hex_position[hex_num2])\n",
        "      print(ans16)\n",
        "    else:\n",
        "      ans16=\"十六進制：\"+str(hex_position[hex_num1])+str(hex_position[hex_num2])\n",
        "      print(ans16)\n",
        "    break\n",
        "\n",
        "  #發現錯誤重新輸入\n",
        "  else:\n",
        "    print(\"Error!\")\n",
        "    continue\n",
        "\n"
      ]
    }
  ]
}